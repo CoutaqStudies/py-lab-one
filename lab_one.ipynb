{
 "cells": [
  {
   "cell_type": "markdown",
   "id": "endless-birthday",
   "metadata": {},
   "source": [
    "# Лабараторная 1\n",
    "---"
   ]
  },
  {
   "cell_type": "markdown",
   "id": "operational-balance",
   "metadata": {},
   "source": [
    "## 1\n",
    "\n",
    "\n",
    "Напишите скрипт, который преобразует введенное с клавиатуры вещественное число в денежный формат. Например, число 12,5 должно быть преобразовано к виду «12 руб. 50 коп.». В случае ввода отрицательного числа выдайте сообщение «Некорректный формат!» путем обработки исключения в коде."
   ]
  },
  {
   "cell_type": "code",
   "execution_count": 1,
   "id": "played-crime",
   "metadata": {
    "scrolled": true
   },
   "outputs": [
    {
     "name": "stdout",
     "output_type": "stream",
     "text": [
      "12 руб. 50 коп.\n"
     ]
    }
   ],
   "source": [
    "def convert_into_currency(num):\n",
    "    if num < 0:\n",
    "        raise ValueError('Некорректный формат!')\n",
    "    dec = num % 1\n",
    "    number = int((num - dec))\n",
    "    dec = int(dec * 100)\n",
    "    print(f'{number} руб. {dec} коп.')\n",
    "\n",
    "\n",
    "convert_into_currency(12.5)\n"
   ]
  },
  {
   "cell_type": "markdown",
   "id": "oriented-cooling",
   "metadata": {},
   "source": [
    "## 2 \n",
    "\n",
    "\n",
    "Написать скрипт, который выводит на экран «True», если элементы программно задаваемого списка представляют собой возрастающую последовательность, иначе – «False»."
   ]
  },
  {
   "cell_type": "code",
   "execution_count": 2,
   "id": "baking-access",
   "metadata": {},
   "outputs": [
    {
     "name": "stdout",
     "output_type": "stream",
     "text": [
      "True\n"
     ]
    }
   ],
   "source": [
    "def is_ordered(list):\n",
    "    temp = list[0]\n",
    "    for item in list:\n",
    "        if(item<temp):\n",
    "            return False\n",
    "        temp = item\n",
    "    return True\n",
    "\n",
    "\n",
    "list1 = (1, 2, 4, 5, 12, 21)\n",
    "\n",
    "print(is_ordered(list1))\n"
   ]
  },
  {
   "cell_type": "markdown",
   "id": "dominant-athens",
   "metadata": {},
   "source": [
    "## 3\n",
    "\n",
    "\n",
    "Напишите скрипт, который позволяет ввести с клавиатуры номер дебетовой карты (16 цифр) и выводит номер в скрытом виде: первые и последние 4 цифры отображены нормально, а между ними – символы «*» (например, 5123 **** **** 1212)."
   ]
  },
  {
   "cell_type": "code",
   "execution_count": 3,
   "id": "brilliant-elizabeth",
   "metadata": {},
   "outputs": [
    {
     "name": "stdout",
     "output_type": "stream",
     "text": [
      "5123********1212\n"
     ]
    }
   ],
   "source": [
    "def hide_card(number):\n",
    "    if len(number) != 16:\n",
    "         raise ValueError('Некорректный формат!')\n",
    "    out =  number[:4] + '*'*(8) + number[-4:]\n",
    "    return out\n",
    "\n",
    "print(hide_card(\"5123567891231212\"))\n"
   ]
  },
  {
   "cell_type": "markdown",
   "id": "relevant-license",
   "metadata": {},
   "source": [
    "## 4\n",
    "\n",
    "\n",
    "Напишите скрипт, который разделяет введенный с клавиатуры текст на слова и выводит сначала те слова, длина которых превосходит 7 символов, затем слова размером от 4 до 7 символов, затем – все остальные."
   ]
  },
  {
   "cell_type": "code",
   "execution_count": 4,
   "id": "aboriginal-shock",
   "metadata": {},
   "outputs": [
    {
     "name": "stdout",
     "output_type": "stream",
     "text": [
      "tetttttt tetwsfsdf tsdfsdgdfhg qweqweqweqw trtrtr rwwww wwwww wwewqe dasd ss sss \n"
     ]
    }
   ],
   "source": [
    "def split_string(string):\n",
    "    list1 = \"\"\n",
    "    list2 = \"\"\n",
    "    list3 = \"\"\n",
    "    for word in string.split(' '):\n",
    "        if len(word)>=7: \n",
    "            list1+=f'{word} '\n",
    "        elif len(word)>=4: \n",
    "            list2+=f'{word} '\n",
    "        else: \n",
    "            list3+=f'{word} '\n",
    "    return f'{list1}{list2}{list3}'\n",
    "print(split_string(\"tetttttt tetwsfsdf tsdfsdgdfhg qweqweqweqw trtrtr rwwww wwwww wwewqe dasd ss sss\"))\n"
   ]
  },
  {
   "cell_type": "markdown",
   "id": "pleased-onion",
   "metadata": {},
   "source": [
    "## 5\n",
    "\n",
    "\n",
    "Напишите скрипт, который позволяет ввести с клавиатуры текст предложения и сформировать новую строку на основе исходной, в которой все слова, начинающиеся с большой буквы, приведены к верхнему регистру. Слова могут разделяться запятыми или пробелами. Например, если пользователь введет строку «город Донецк, река Кальмиус», результирующая строка должна выглядеть так: «город ДОНЕЦК, река КАЛЬМИУС»."
   ]
  },
  {
   "cell_type": "code",
   "execution_count": 5,
   "id": "built-gilbert",
   "metadata": {},
   "outputs": [
    {
     "name": "stdout",
     "output_type": "stream",
     "text": [
      "город ДОНЕЦК, река КАЛЬМИУС \n"
     ]
    }
   ],
   "source": [
    "def capitilize(string):\n",
    "    output_string = \"\"\n",
    "    for word in string.split():\n",
    "        output_string+=f\"{word.upper() if word[0].isupper() else word} \"\n",
    "    return output_string\n",
    "\n",
    "# text = input()\n",
    "# print(capitilize(text))\n",
    "\n",
    "print(capitilize(\"город Донецк, река Кальмиус\"))\n"
   ]
  },
  {
   "cell_type": "markdown",
   "id": "scheduled-polls",
   "metadata": {},
   "source": [
    "## 6\n",
    "\n",
    "\n",
    "Напишите программу, позволяющую ввести с клавиатуры текст предложения и вывести на консоль все символы, которые входят в этот текст ровно по одному разу."
   ]
  },
  {
   "cell_type": "code",
   "execution_count": 6,
   "id": "tender-antigua",
   "metadata": {},
   "outputs": [
    {
     "name": "stdout",
     "output_type": "stream",
     "text": [
      "[('l', 1), ('h', 1), ('g', 1), ('b', 1), ('.', 1), ('w', 1)]\n"
     ]
    }
   ],
   "source": [
    "def get_unique_chars(string):\n",
    "    chars = dict()\n",
    "    for c in string:\n",
    "        if c not in chars:\n",
    "            chars[c] = 0\n",
    "        chars[c]=chars[c]+1\n",
    "    unique_chars = list(filter(lambda item: item[1]==1, chars.items()))\n",
    "    return unique_chars\n",
    "\n",
    "\n",
    "print(get_unique_chars(\"lsdjfhksdjgfksb.  ddddasdasd w,,, asdasd ,\"))\n"
   ]
  },
  {
   "cell_type": "markdown",
   "id": "experimental-florida",
   "metadata": {},
   "source": [
    "## 7\n",
    "\n",
    "\n",
    "Напишите скрипт, который обрабатывает список строк-адресов следующим образом: сначала определяет, начинается ли каждая строка в списке с префикса «www». Если условие выполняется, то скрипт должен вставить в начало этой строки префикс «http://», а затем проверить, что строка заканчивается на «.com». Если у строки другое окончание, то скрипт должен вставить в конец подстроку «.com». В итоге скрипт должен вывести на консоль новый список с измененными адресами. Используйте генераторы списков."
   ]
  },
  {
   "cell_type": "code",
   "execution_count": 7,
   "id": "proved-filter",
   "metadata": {},
   "outputs": [
    {
     "name": "stdout",
     "output_type": "stream",
     "text": [
      "['fdhfj.com', 'http://www.test.com', 'http://www.testtwo.com']\n"
     ]
    }
   ],
   "source": [
    "def get_proper_url(url):\n",
    "    if url.startswith('www'):\n",
    "        url = f\"http://{url}\"\n",
    "        if not url.endswith(\".com\"):\n",
    "            url = f\"{url}.com\"\n",
    "    return url\n",
    "\n",
    "urls = [\"fdhfj.com\", \"www.test.com\", \"www.testtwo\"]\n",
    "\n",
    "proper_urls = [get_proper_url(url) for url in urls]\n",
    "\n",
    "print(proper_urls)\n"
   ]
  },
  {
   "cell_type": "markdown",
   "id": "developed-vinyl",
   "metadata": {},
   "source": [
    "## 8\n",
    "\n",
    "\n",
    "Напишите скрипт, генерирующий случайным образом число n в диапазоне от 1 до 10000. Скрипт должен создать массив из n целых чисел, также сгенерированных случайным образом, и дополнить массив нулями до размера, равного ближайшей сверху степени двойки. Например, если в массиве было n=100 элементов, то массив нужно дополнить 28 нулями, чтобы в итоге был массив из 28=128 элементов (ближайшая степень двойки к 100 – это число 128, к 35 – это 64 и т.д.)."
   ]
  },
  {
   "cell_type": "code",
   "execution_count": 8,
   "id": "french-motor",
   "metadata": {},
   "outputs": [
    {
     "name": "stdout",
     "output_type": "stream",
     "text": [
      "n is 53, the closest power of 2 (upper bound) is 64\n",
      "[82, 48, 27, 93, 53, 22, 53, 89, 98, 44, 28, 29, 85, 64, 28, 22, 64, 61, 60, 33, 28, 97, 100, 20, 84, 21, 100, 17, 25, 76, 83, 24, 99, 52, 67, 46, 26, 89, 24, 10, 63, 5, 67, 69, 51, 24, 81, 77, 32, 44, 28, 82, 78, 0, 0, 0, 0, 0, 0, 0, 0, 0, 0, 0]\n"
     ]
    }
   ],
   "source": [
    "import random\n",
    "import math\n",
    "\n",
    "\n",
    "MIN = 0\n",
    "MAX = 100\n",
    "\n",
    "n = random.randint(MIN, MAX)\n",
    "closest_power_of_two = int(math.pow(2, math.ceil(math.log(n, 2)))) if n!=0 else int(math.pow(2, 0))\n",
    "\n",
    "integers = list()\n",
    "print(f\"n is {n}, the closest power of 2 (upper bound) is {closest_power_of_two}\")\n",
    "for i in range(closest_power_of_two):\n",
    "    integers.append(random.randint(MIN, MAX) if  i<n else 0)\n",
    "\n",
    "print(integers)\n"
   ]
  },
  {
   "cell_type": "markdown",
   "id": "wired-bachelor",
   "metadata": {},
   "source": [
    "## 9\n",
    "\n",
    "\n",
    "Напишите программу, имитирующую работу банкомата. Выберите структуру данных для хранения купюр разного достоинства в заданном количестве. При вводе пользователем запрашиваемой суммы денег, скрипт должен вывести на консоль количество купюр подходящего достоинства. Если имеющихся денег не хватает, то необходимо напечатать сообщение «Операция не может быть выполнена!». Например, при сумме 5370 рублей на консоль должно быть выведено «5*1000 + 3*100 + 1*50 + 2*10»."
   ]
  },
  {
   "cell_type": "code",
   "execution_count": 17,
   "id": "difficult-investment",
   "metadata": {},
   "outputs": [
    {
     "name": "stdout",
     "output_type": "stream",
     "text": [
      "current bank account: {5000: 8, 2000: 10, 1000: 6, 500: 5, 200: 9, 100: 9, 50: 6, 10: 5}\n",
      "withdrawing: 5000*1 + 200*1 + 100*1 + 50*1 + 10*2\n",
      "current bank account: {5000: 7, 2000: 10, 1000: 6, 500: 5, 200: 8, 100: 8, 50: 5, 10: 3}\n"
     ]
    }
   ],
   "source": [
    "import random\n",
    "\n",
    "\n",
    "bills = [5000, 2000, 1000, 500, 200, 100, 50, 10]\n",
    "bank = { i : random.randint(3, 10) for i in bills }\n",
    "print(f\"current bank account: {bank}\")\n",
    "\n",
    "def withdraw(amount):\n",
    "    output =  dict.fromkeys(bills , 0)\n",
    "    for value, n in bank.items():\n",
    "        if n>0 and value<=amount:\n",
    "            n_of_bills = min(int((amount/value)), n)\n",
    "            output[value]=n_of_bills\n",
    "            amount-=value*n_of_bills\n",
    "            n-=n_of_bills\n",
    "            bank[value]-=n_of_bills\n",
    "    if amount != 0: \n",
    "        print(\"Операция не может быть выполнена!\")\n",
    "        for value, n in output.items():\n",
    "            bank[value]+=n\n",
    "    else:\n",
    "        output = dict(filter(lambda elem: elem[1] > 0, output.items()))\n",
    "        print(f\"withdrawing: {' + '.join(['%s*%s' % (key, value) for (key, value) in output.items()])}\")\n",
    "\n",
    "\n",
    "\n",
    "withdraw(5370)\n",
    "print(f\"current bank account: {bank}\")\n"
   ]
  },
  {
   "cell_type": "markdown",
   "id": "miniature-plant",
   "metadata": {},
   "source": [
    "## 10\n",
    "\n",
    "\n",
    "Напишите скрипт, позволяющий определить надежность вводимого пользователем пароля. Это задание является творческим: алгоритм определения надежности разработайте самостоятельно."
   ]
  },
  {
   "cell_type": "code",
   "execution_count": 10,
   "id": "useful-decision",
   "metadata": {},
   "outputs": [
    {
     "name": "stdout",
     "output_type": "stream",
     "text": [
      "password: 0.44583333333333336\n",
      "password1234: 0.46499999999999997\n",
      "PassWOrd???ie213!: 0.6321078431372549\n",
      "testpasswordonetewo12323: 0.6041666666666666\n"
     ]
    },
    {
     "data": {
      "image/png": "[encoded data removed]",
      "text/plain": [
       "<Figure size 432x288 with 1 Axes>"
      ]
     },
     "metadata": {
      "needs_background": "light"
     },
     "output_type": "display_data"
    }
   ],
   "source": [
    "import math\n",
    "%matplotlib inline\n",
    "from matplotlib import pyplot as plt\n",
    "\n",
    "\n",
    "def get_unique_chars(string): #from task six\n",
    "    chars = dict()\n",
    "    for c in string:\n",
    "        if c not in chars:\n",
    "            chars[c] = 0\n",
    "        chars[c]=chars[c]+1\n",
    "    unique_chars = list(filter(lambda item: item[1]==1, chars.items()))\n",
    "    return unique_chars\n",
    "\n",
    "\n",
    "def check_password(password):\n",
    "    weights = (0.5, 0.15, 0.15, 0.2)\n",
    "    min_length = 20\n",
    "    length = len(password)\n",
    "    unique_chars = get_unique_chars(password)\n",
    "    numbers = sum(c.isdigit() for c in password)\n",
    "    upper = sum(c.isupper() for c in password)\n",
    "    lower = sum(c.islower() for c in password)\n",
    "    symbols  = length - numbers - upper - lower\n",
    "    random_values = (upper, lower, numbers)\n",
    "\n",
    "    med = 0\n",
    "    for v in random_values:\n",
    "        med+=v/len(random_values)\n",
    "    \n",
    "    lengthiness = min(length/min_length, 1)\n",
    "\n",
    "    randomness = 0\n",
    "    for v in random_values:\n",
    "        randomness = abs(med/(v+1))/len(random_values)\n",
    "    uniqueness = len(unique_chars)/length\n",
    "    symbolness = math.pow(symbols/length, 1)\n",
    "\n",
    "    weighted_values = (lengthiness, randomness, uniqueness, symbolness)\n",
    "\n",
    "    weight = 0\n",
    "    for w in weights:\n",
    "        weight+=w\n",
    "    safety = 0\n",
    "    for i, value in enumerate(weighted_values):\n",
    "        safety+=(value*weights[i])\n",
    "\n",
    "    return safety\n",
    "\n",
    "passwords = {\"password\":check_password(\"password\"),\n",
    "             \"password1234\":check_password(\"password1234\"),\n",
    "             \"PassWOrd???ie213!\":check_password(\"PassWOrd???ie213!\"),\n",
    "             \"testpasswordonetewo12323\":check_password(\"testpasswordonetewo12323\")\n",
    "            }\n",
    "\n",
    "\n",
    "for key, val in passwords.items():\n",
    "    plt.bar(key, val)\n",
    "    print(f\"{key}: {val}\")\n",
    "    \n",
    "plt.show()\n",
    "\n"
   ]
  },
  {
   "cell_type": "markdown",
   "id": "private-heading",
   "metadata": {},
   "source": [
    "## 11\n",
    "\n",
    "\n",
    "Напишите генератор frange как аналог `range()` с дробным шагом. Пример вызова:\n",
    "     ```for x in frange(1, 5, 0.1):\n",
    "         print(x)```\n",
    "         выводит     *1    1.1    1.2    1.3    1.4   ...   4.9"
   ]
  },
  {
   "cell_type": "code",
   "execution_count": 11,
   "id": "rational-joyce",
   "metadata": {},
   "outputs": [
    {
     "name": "stdout",
     "output_type": "stream",
     "text": [
      "1\n",
      "1.1\n",
      "1.2\n",
      "1.3\n",
      "1.4\n",
      "1.5\n",
      "1.6\n",
      "1.7\n",
      "1.8\n",
      "1.9\n",
      "2.0\n",
      "2.1\n",
      "2.2\n",
      "2.3\n",
      "2.4\n",
      "2.5\n",
      "2.6\n",
      "2.7\n",
      "2.8\n",
      "2.9\n",
      "3.0\n",
      "3.1\n",
      "3.2\n",
      "3.3\n",
      "3.4\n",
      "3.5\n",
      "3.6\n",
      "3.7\n",
      "3.8\n",
      "3.9\n",
      "4.0\n",
      "4.1\n",
      "4.2\n",
      "4.3\n",
      "4.4\n",
      "4.5\n",
      "4.6\n",
      "4.7\n",
      "4.8\n",
      "4.9\n",
      "5.0\n"
     ]
    }
   ],
   "source": [
    "def frange(start, end, step):\n",
    "    i = start\n",
    "    output = list()\n",
    "    while i<end:\n",
    "        output.append(round(i, 14)) #maybe use decimal?\n",
    "        i+=step\n",
    "    return output\n",
    "\n",
    "\n",
    "for x in frange(1, 5, 0.1):\n",
    "    print(x)\n"
   ]
  },
  {
   "cell_type": "markdown",
   "id": "detailed-register",
   "metadata": {},
   "source": [
    "## 12\n",
    "\n",
    "\n",
    "Напишите генератор `get_frames()`, который производит «оконную декомпозицию» сигнала: на основе входного списка генерирует набор списков – перекрывающихся отдельных фрагментов сигнала размера size со степенью перекрытия overlap. Пример вызова:\n",
    "     ```for frame in get_frames(signal, size=1024, overlap=0.5):\n",
    "         print(frame)```"
   ]
  },
  {
   "cell_type": "code",
   "execution_count": 12,
   "id": "valuable-description",
   "metadata": {},
   "outputs": [],
   "source": [
    "def get_frames(signal, size, overlap):\n",
    "    output = list()\n",
    "    if 0>overlap>=1: raise ValueError(\"Overlap cant be >1 or <0 i think\")\n",
    "    sig_len = len(signal)\n",
    "    if sig_len<=size:\n",
    "        return signal\n",
    "    overlapping_size = overlap*size\n",
    "    n_of_elems = int((sig_len/overlapping_size)-1)\n",
    "    for i in range(n_of_elems):\n",
    "        if i == 0:\n",
    "            output.append(signal[0:size+1])\n",
    "        else:\n",
    "            output.append(signal[(size-overlapping_size)*i:(size+overlapping_size)*i+1])\n",
    "    return output\n"
   ]
  },
  {
   "cell_type": "markdown",
   "id": "built-competition",
   "metadata": {},
   "source": [
    "## 13\n",
    "\n",
    "\n",
    "Напишите собственную версию генератора enumerate под названием `extra_enumerate`. Пример вызова:\n",
    "    ```for i, elem, cum, frac in extra_enumerate(x):\n",
    "          print(elem, cum, frac)```\n",
    "          \n",
    "          \n",
    "В переменной cum хранится накопленная сумма на момент текущей итерации, в переменной frac – доля накопленной суммы от общей суммы на момент текущей итерации. Например, для списка `x=[1,3,4,2]` вывод будет таким:\n",
    "     *(1, 1, 0.1)    (3, 4, 0.4)    (4, 8, 0.8)    (2, 10, 1)\n",
    "\n"
   ]
  },
  {
   "cell_type": "code",
   "execution_count": 13,
   "id": "allied-single",
   "metadata": {},
   "outputs": [
    {
     "name": "stdout",
     "output_type": "stream",
     "text": [
      "(1, 1, 0.1)\n",
      "(3, 4, 0.4)\n",
      "(4, 8, 0.8)\n",
      "(2, 10, 1.0)\n"
     ]
    }
   ],
   "source": [
    "def extra_enumerate(enumeratable):\n",
    "    length = len(enumeratable)\n",
    "    output = []\n",
    "    sum = 0\n",
    "    for item in enumeratable:\n",
    "        sum+=item\n",
    "    cum = 0\n",
    "    for i in range(length):\n",
    "        cum+=enumeratable[i]\n",
    "        new_list = [i, enumeratable[i], cum, cum/sum]\n",
    "        output.append(new_list)\n",
    "    return output\n",
    "\n",
    "x = [1,3,4,2]\n",
    "for i,elem,cum,frac in extra_enumerate(x):\n",
    "    print(f\"({elem}, {cum}, {frac})\")"
   ]
  },
  {
   "cell_type": "markdown",
   "id": "second-prior",
   "metadata": {},
   "source": [
    "## 14\n",
    "\n",
    "\n",
    "Напишите декоратор `non_empty`, который дополнительно проверяет списковый результат любой функции: если в нем содержатся пустые строки или значение None, то они удаляются. Пример кода:\n",
    "```zzz@non_empty\n",
    "   def get_pages():\n",
    "       return ['chapter1', '', 'contents', '', 'line1']```"
   ]
  },
  {
   "cell_type": "code",
   "execution_count": 14,
   "id": "weird-lease",
   "metadata": {},
   "outputs": [
    {
     "name": "stdout",
     "output_type": "stream",
     "text": [
      "['ch1', 'cont', 'l1']\n"
     ]
    }
   ],
   "source": [
    "def non_empty(func):\n",
    "    def wrapper(*args, **kwargs):\n",
    "        return list(filter(None, func(*args, **kwargs)))\n",
    "    return wrapper\n",
    "\n",
    "\n",
    "@non_empty\n",
    "def get_pages():\n",
    "    return ['ch1', '', 'cont', '', 'l1']\n",
    "    \n",
    "print(get_pages())\n"
   ]
  },
  {
   "cell_type": "markdown",
   "id": "roman-tennis",
   "metadata": {},
   "source": [
    "## 15\n",
    "\n",
    "\n",
    "Напишите параметризированный декоратор pre_process, который осуществляет предварительную обработку (цифровую фильтрацию) списка по алгоритму: `s[i] = s[i]–a∙s[i–1]`. Параметр а можно задать в коде (по умолчанию равен 0.97). *Пример кода:\n",
    "```@pre_process(a=0.93)\n",
    "  def plot_signal(s):\n",
    "      for sample in s:\n",
    "          print(sample)```\n"
   ]
  },
  {
   "cell_type": "code",
   "execution_count": 15,
   "id": "russian-charity",
   "metadata": {},
   "outputs": [
    {
     "name": "stdout",
     "output_type": "stream",
     "text": [
      "[1, 2.07, 1.21, -1.7200000000000002]\n"
     ]
    }
   ],
   "source": [
    "def pre_process(a=0.97):\n",
    "    def process(func):\n",
    "        def wrapper(*args, **kwargs):\n",
    "            return_value = func(*args, **kwargs)\n",
    "            ret_list = list()\n",
    "            for i in range(len(return_value)):\n",
    "                if i==0: \n",
    "                    ret_list.append(return_value[i])\n",
    "                else:\n",
    "                    ret_list.append(return_value[i]-a*return_value[i-1])                \n",
    "            return ret_list\n",
    "        return wrapper\n",
    "    return process\n",
    "\n",
    "@pre_process(a=0.93)\n",
    "def get_sample():\n",
    "    return [1, 3, 4, 2]\n",
    "print(get_sample())"
   ]
  },
  {
   "cell_type": "markdown",
   "id": "latin-jesus",
   "metadata": {},
   "source": [
    "## 16\n",
    "\n",
    "\n",
    "Напишите скрипт, который на основе списка из 16 названий футбольных команд случайным образом формирует 4 группы по 4 команды, а также выводит на консоль календарь всех игр (игры должны проходить по средам, раз в 2 недели, начиная с 14 сентября текущего года). Даты игр необходимо выводить в формате «14/09/2016, 22:45». Используйте модули `random` и `itertools`."
   ]
  },
  {
   "cell_type": "code",
   "execution_count": 18,
   "id": "hidden-marking",
   "metadata": {},
   "outputs": [
    {
     "name": "stdout",
     "output_type": "stream",
     "text": [
      "[['h', 'A', 'm', 'j'], ['i', 'p', 'n', 'f'], ['l', 'b', 'g', 'e'], ['c', 'd', 'o', 'k']]\n"
     ]
    }
   ],
   "source": [
    "import random\n",
    "from datetime import datetime, date, time\n",
    "\n",
    "startDate = date(date.today().year, 9, 14)\n",
    "\n",
    "def get_teams(teams, n_of_lists = 4):\n",
    "    n = len(teams)-1\n",
    "   \n",
    "    return_teams = [[],[],[],[]]\n",
    "    for i in range(n+1):\n",
    "        m = random.randint(0,n-i)\n",
    "        return_teams[i%n_of_lists].append(teams[m])\n",
    "        del teams[m]\n",
    "    return return_teams\n",
    "\n",
    "te = [\"A\", \"b\", \"c\", \"d\", \"e\", \"f\", \"g\", \"h\", \"i\", \"j\", \"k\", \"l\", \"m\", \"n\", \"o\", \"p\"]\n",
    "print(get_teams(te))\n",
    "\n"
   ]
  }
 ],
 "metadata": {
  "kernelspec": {
   "display_name": "Python 3",
   "language": "python",
   "name": "python3"
  },
  "language_info": {
   "codemirror_mode": {
    "name": "ipython",
    "version": 3
   },
   "file_extension": ".py",
   "mimetype": "text/x-python",
   "name": "python",
   "nbconvert_exporter": "python",
   "pygments_lexer": "ipython3",
   "version": "3.9.1"
  }
 },
 "nbformat": 4,
 "nbformat_minor": 5
}
